{
 "cells": [
  {
   "cell_type": "code",
   "execution_count": 1,
   "metadata": {},
   "outputs": [],
   "source": [
    "import pyspark.sql.functions as sf\n",
    "from pyspark.sql import SparkSession\n",
    "from pyspark.sql import SQLContext\n",
    "from pyspark.sql.functions import when\n",
    "from pyspark.sql.functions import col\n",
    "from pyspark.sql.types import *\n",
    "from pyspark.sql.functions import lit\n",
    "from pyspark import SparkConf, SparkContext\n",
    "from pyspark.sql import Row\n",
    "from pyspark.sql.functions import udf\n",
    "from pyspark.sql.functions import monotonically_increasing_id\n",
    "from pyspark.sql.window import Window as W\n",
    "from login_mysql import USER, PASSWORD, HOST, PORT, DB_NAME, URL, DRIVER"
   ]
  },
  {
   "cell_type": "code",
   "execution_count": 16,
   "metadata": {},
   "outputs": [],
   "source": [
    "spark = SparkSession.builder \\\n",
    "        .config('spark.jars.packages','com.datastax.spark:spark-cassandra-connector_2.12:3.1.0') \\\n",
    "        .config('spark.jars', \"C:\\\\spark\\\\mysql-connector-java-8.0.30.jar\") \\\n",
    "        .getOrCreate() "
   ]
  },
  {
   "cell_type": "code",
   "execution_count": 13,
   "metadata": {},
   "outputs": [],
   "source": [
    "data = spark.read.format(\"org.apache.spark.sql.cassandra\").options(table = 'tracking',keyspace = 'cycling').load()"
   ]
  },
  {
   "cell_type": "code",
   "execution_count": 15,
   "metadata": {},
   "outputs": [
    {
     "name": "stdout",
     "output_type": "stream",
     "text": [
      "+--------------------+----+----------+-----------+----+------------+-----+--------------------+---------------+--------------------+----+--------+----+------+----+------------+--------------------+---------+--------------------+----+--------------------+-------------------+------------+-----------+----------+----------+--------+----+--------+\n",
      "|         create_time| bid|        bn|campaign_id|  cd|custom_track|   de|                  dl|             dt|                  ed|  ev|group_id|  id|job_id|  md|publisher_id|                  rl|       sr|                  ts|  tz|                  ua|                uid|utm_campaign|utm_content|utm_medium|utm_source|utm_term|   v|      vp|\n",
      "+--------------------+----+----------+-----------+----+------------+-----+--------------------+---------------+--------------------+----+--------+----+------+----+------------+--------------------+---------+--------------------+----+--------------------+-------------------+------------+-----------+----------+----------+--------+----+--------+\n",
      "|abb8e0b0-018d-11e...|null|Chrome 103|       null|  24|       click|UTF-8|http://localhost:...|CandidatePortal|{\"customEvent\":\"c...|   2|    null|null|  null|true|        null|                null|1920x1080|2022-07-12 02:52:...|-420|Mozilla/5.0 (Wind...|1-rrc3k5vd-l4o0b4yy|        null|       null|      null|      null|    null|   1|1367x929|\n",
      "|e2a6c450-0a68-11e...|null|Chrome 103|       null|  24|        null|UTF-8|http://localhost:...|CandidatePortal|                null|   1|    null|null|  null|true|        null|                null|1920x1080|2022-07-23 09:21:...|-420|Mozilla/5.0 (Maci...|1-j806pz4h-l5xomouh|        null|       null|      null|      null|    null|   1|1920x944|\n",
      "|d25f223a-28b3-11e...|   0|      null|          7|null|       click| null|                null|           null|                null|null|      17|null|   171|null|          35|                null|     null| 2023-07-22 17:18:48|null|                null|               null|        null|       null|      null|      null|    null|null|    null|\n",
      "|2820ec40-00aa-11e...|null|Chrome 102|       null|  24|        null|UTF-8|http://localhost:...|CandidatePortal|                null|   1|    null|null|  null|true|        null|http://localhost:...|1920x1080|2022-07-10 23:43:...|-420|Mozilla/5.0 (Maci...|1-2e0m174r-l4nx6s72|        null|       null|      null|      html|    null|   1|1255x976|\n",
      "|566f6130-0c8f-11e...|   0|Chrome 103|        222|  24|        null|UTF-8|http://fe.dev.got...|CandidatePortal|                null|   1|    null|null|  1533|true|           1|                null| 1366x768|2022-07-26 03:02:...|-420|Mozilla/5.0 (Wind...|1-t8bqaiy4-l61kszmf|        null|       null|      null|      null|    null|   1|1366x625|\n",
      "|954dec10-0cb1-11e...|null|Chrome 103|       null|  24|       alive|UTF-8|http://fe.dev.got...|CandidatePortal|{\"customEvent\":\"a...|   2|    null|null|  null|true|        null|                null| 1366x768|2022-07-26 07:07:...|-420|Mozilla/5.0 (Wind...|1-n0yirqcz-l61u0uk7|        null|       null|      null|      null|    null|   1|1366x625|\n",
      "|bda52200-0a54-11e...|null|Chrome 102|       null|  24|       click|UTF-8|http://localhost:...|CandidatePortal|{\"customEvent\":\"c...|   2|    null|null|  null|true|        null|http://localhost:...|1920x1080|2022-07-23 06:57:...|-420|Mozilla/5.0 (Maci...|1-ok78d38x-l5j7ka8p|        null|       null|      null|      null|    null|   1|1323x976|\n",
      "|4f0cedd0-018c-11e...|null| Chrome 99|       null|  24|        null|UTF-8|http://150.136.2....|CandidatePortal|                null|   1|    null|null|  null|true|        null|                null| 1536x864|2022-07-12 02:42:...|-420|Mozilla/5.0 (Wind...|1-m1rjmp9d-l4zajc12|        null|       null|      null|      null|    null|   1|1536x752|\n",
      "|5f8e8180-fea0-11e...|   2|Chrome 103|          4|  24|        null|UTF-8|http://150.230.18...|CandidatePortal|                null|   1|    null|null|    98|true|           1|                null| 1366x768|2022-07-08 09:28:...|-420|Mozilla/5.0 (Wind...|1-c5v39kv8-l5c94dee|        null|       null|      null|      null|    null|   1|1366x625|\n",
      "|48ad06e0-027d-11e...|null|Chrome 103|       null|  24|        null|UTF-8|http://150.136.2....|CandidatePortal|                null|   1|    null|null|  null|true|        null|                null| 1366x768|2022-07-13 07:27:...|-420|Mozilla/5.0 (Wind...|1-m8tpkuds-l4oxward|        null|       null|      null|      null|    null|   1|1366x625|\n",
      "|eb5b7220-0410-11e...|null|Chrome 102|       null|  24|        null|UTF-8|http://localhost:...|CandidatePortal|                null|   1|    null|null|  null|true|        null|http://localhost:...|1920x1080|2022-07-15 07:37:...|-420|Mozilla/5.0 (Maci...|1-ok78d38x-l5j7ka8p|        null|       null|      null|      null|    null|   1|1920x976|\n",
      "|f4267340-0bff-11e...|   0|Chrome 103|        222|  24|        null|UTF-8|http://fe.dev.got...|CandidatePortal|                null|   1|    null|null|  1530|true|           1|                null| 1366x768|2022-07-25 09:55:...|-420|Mozilla/5.0 (Wind...|1-yh82s4al-l60jlqwa|        null|       null|      null|      null|    null|   1|1366x568|\n",
      "|a0865690-0440-11e...|null|Chrome 102|       null|  30|        null|UTF-8|http://150.136.2....|CandidatePortal|                null|   1|    null|null|  null|true|        null|                null| 1440x900|2022-07-15 13:18:...|-420|Mozilla/5.0 (Maci...|1-s1380zhv-l4ozwjai|        null|       null|      null|      null|    null|   1|1440x745|\n",
      "|4e1ff540-0c8e-11e...|   0|Chrome 103|        222|  24|       click|UTF-8|http://fe.dev.got...|CandidatePortal|{\"customEvent\":\"c...|   2|    null|null|  1527|true|           1|                null| 1366x768|2022-07-26 02:54:...|-420|Mozilla/5.0 (Wind...|1-t8bqaiy4-l61kszmf|        null|       null|      null|      null|    null|   1|1366x625|\n",
      "|680c17c0-0975-11e...|null|Chrome 103|       null|  24|        null|UTF-8|http://150.136.2....|CandidatePortal|                null|   1|    null|null|  null|true|        null|                null| 1366x768|2022-07-22 04:18:...|-420|Mozilla/5.0 (Wind...|1-m8tpkuds-l4oxward|        null|       null|      null|      null|    null|   1|1517x694|\n",
      "|117b5d90-0073-11e...|null|Chrome 103|       null|  24|       alive|UTF-8|http://localhost:...|CandidatePortal|{\"customEvent\":\"a...|   2|    null|null|  null|true|        null|                null| 1536x864|2022-07-10 17:09:...|-420|Mozilla/5.0 (Wind...|1-rrc3k5vd-l4o0b4yy|        null|       null|      null|      null|    null|   1|1018x714|\n",
      "|d9533f90-0087-11e...|null|chrome 103|       null|  24|        null|utf-8|http://150.230.18...|candidateportal|                null|   1|    null|null|  null|true|        null|                null| 1536x864|2022-07-07 09:46:...|-420|mozilla/5.0 (wind...|1-qwdqh96e-l4pb9x0h|        null|       null|      null|      null|    null|   1|1536x731|\n",
      "|0ba04810-0c1a-11e...|null|Chrome 103|       null|  24|        null|UTF-8|http://fe.stag.go...|CandidatePortal|                null|   1|    null|null|  null|true|        null|                null|1920x1080|2022-07-25 13:02:...|-420|Mozilla/5.0 (Wind...|1-7sdmvw7b-l60r3ocj|        null|       null|      null|      null|    null|   1|1920x947|\n",
      "|a50f9d30-00e8-11e...|null|Chrome 103|       null|  24|        null|UTF-8|http://150.230.18...|CandidatePortal|                null|   1|    null|null|  null|true|        null|                null|1920x1080|2022-07-11 07:11:...|-420|Mozilla/5.0 (Maci...|1-xc2qpprv-l4o741s7|        null|       null|      null|      null|    null|   1|1858x944|\n",
      "|cd268a70-0d60-11e...|   1|Chrome 103|         48|  24|        null|UTF-8|http://fe.dev.got...|CandidatePortal|                null|   1|      34|null|   187|true|           1|                null| 1366x768|2022-07-27 04:01:...|-420|Mozilla/5.0 (Wind...|1-347wwfkr-l632u1zk|        null|       null|      null|      null|    null|   1|1366x625|\n",
      "+--------------------+----+----------+-----------+----+------------+-----+--------------------+---------------+--------------------+----+--------+----+------+----+------------+--------------------+---------+--------------------+----+--------------------+-------------------+------------+-----------+----------+----------+--------+----+--------+\n",
      "only showing top 20 rows\n",
      "\n"
     ]
    }
   ],
   "source": [
    "data.show()"
   ]
  },
  {
   "cell_type": "code",
   "execution_count": 17,
   "metadata": {},
   "outputs": [],
   "source": [
    "sql = \"\"\"(select * from events) data\"\"\"\n",
    "mysql = spark.read.format('jdbc').options(url=URL, driver=DRIVER, dbtable=sql, user=USER, password=PASSWORD).load()"
   ]
  },
  {
   "cell_type": "code",
   "execution_count": 18,
   "metadata": {},
   "outputs": [
    {
     "name": "stdout",
     "output_type": "stream",
     "text": [
      "+------+-------------------+-----+------------------------+---------------------+----------+----------+--------+-----------+------------+-------+------+-----------+----------+---------+-------------------+\n",
      "|job_id|              dates|hours|disqualified_application|qualified_application|conversion|company_id|group_id|campaign_id|publisher_id|bid_set|clicks|impressions|spend_hour|  sources| latest_update_time|\n",
      "+------+-------------------+-----+------------------------+---------------------+----------+----------+--------+-----------+------------+-------+------+-----------+----------+---------+-------------------+\n",
      "|    98|2022-07-08 00:00:00|    9|                       1|                    0|         1|         1|    null|          4|           1|    2.0|   108|       null|     216.0|Cassandra|2023-07-16 10:23:15|\n",
      "|    98|2022-07-13 00:00:00|   15|                       1|                    0|         1|         1|    null|          4|           1|    2.0|     1|       null|       2.0|Cassandra|2023-07-16 10:23:15|\n",
      "|   187|2022-07-08 00:00:00|    4|                       1|                    0|         1|        33|    null|         48|           1|    0.0|     2|       null|       0.0|Cassandra|2023-07-16 10:23:15|\n",
      "|   187|2022-07-08 00:00:00|    6|                       1|                    0|         1|        33|    null|         48|           1|    1.5|     6|       null|       9.0|Cassandra|2023-07-16 10:23:15|\n",
      "|   258|2022-07-08 00:00:00|    9|                       1|                    0|         1|        33|    null|         93|           3|    2.0|     1|       null|       2.0|Cassandra|2023-07-16 10:23:15|\n",
      "|     2|2022-07-14 00:00:00|    9|                       3|                    0|         3|         1|      10|          1|           1|   null|  null|       null|      null|Cassandra|2023-07-16 10:23:15|\n",
      "|   188|2022-07-24 00:00:00|   10|                       1|                    0|         1|        33|    null|         48|           1|    1.0|    25|       null|      25.0|Cassandra|2023-07-16 10:23:15|\n",
      "|   188|2022-07-24 00:00:00|   14|                       1|                    0|         1|        33|    null|         48|           1|    1.0|    86|       null|      86.0|Cassandra|2023-07-16 10:23:15|\n",
      "|   188|2022-07-25 00:00:00|    9|                    null|                 null|      null|        33|    null|         48|           1|    1.0|    52|       null|      52.0|Cassandra|2023-07-16 10:23:15|\n",
      "|   273|2022-07-25 00:00:00|   10|                    null|                 null|      null|        33|    null|         48|           1|    2.0|     8|       null|       0.0|Cassandra|2023-07-16 10:23:15|\n",
      "|  1527|2022-07-25 00:00:00|    9|                    null|                 null|      null|         1|      10|          1|           1|    1.0|     3|       null|       3.0|Cassandra|2023-07-16 10:23:15|\n",
      "|  1527|2022-07-25 00:00:00|   10|                    null|                 null|      null|         1|      10|          1|           1|    1.0|    13|       null|      13.0|Cassandra|2023-07-16 10:23:15|\n",
      "|  1529|2022-07-25 00:00:00|    9|                    null|                 null|      null|         1|      10|          1|           1|    1.5|     3|       null|       4.5|Cassandra|2023-07-16 10:23:15|\n",
      "|  1529|2022-07-25 00:00:00|   10|                    null|                 null|      null|         1|      10|          1|           1|    1.5|    10|       null|      15.0|Cassandra|2023-07-16 10:23:15|\n",
      "|  1530|2022-07-25 00:00:00|    9|                    null|                 null|      null|         1|      10|          1|           1|    2.0|    11|       null|      22.0|Cassandra|2023-07-16 10:23:15|\n",
      "|  1530|2022-07-25 00:00:00|   10|                    null|                 null|      null|         1|      10|          1|           1|    2.0|     8|       null|      16.0|Cassandra|2023-07-16 10:23:15|\n",
      "|  1531|2022-07-25 00:00:00|    9|                    null|                 null|      null|        40|      30|         53|           1|    2.0|    23|       null|      46.0|Cassandra|2023-07-16 10:23:15|\n",
      "|  1532|2022-07-25 00:00:00|    9|                    null|                 null|      null|        15|      31|         69|           1|    1.0|    17|       null|      17.0|Cassandra|2023-07-16 10:23:15|\n",
      "|  1533|2022-07-25 00:00:00|    9|                    null|                 null|      null|        15|      31|         69|           1|    1.0|    19|       null|      19.0|Cassandra|2023-07-16 10:23:15|\n",
      "|  1534|2022-07-25 00:00:00|    9|                    null|                 null|      null|        40|      30|         53|           1|    1.0|    17|       null|      17.0|Cassandra|2023-07-16 10:23:15|\n",
      "+------+-------------------+-----+------------------------+---------------------+----------+----------+--------+-----------+------------+-------+------+-----------+----------+---------+-------------------+\n",
      "only showing top 20 rows\n",
      "\n"
     ]
    }
   ],
   "source": [
    "mysql.show()"
   ]
  },
  {
   "cell_type": "code",
   "execution_count": 19,
   "metadata": {},
   "outputs": [
    {
     "name": "stdout",
     "output_type": "stream",
     "text": [
      "root\n",
      " |-- job_id: integer (nullable = true)\n",
      " |-- dates: timestamp (nullable = true)\n",
      " |-- hours: integer (nullable = true)\n",
      " |-- disqualified_application: integer (nullable = true)\n",
      " |-- qualified_application: integer (nullable = true)\n",
      " |-- conversion: integer (nullable = true)\n",
      " |-- company_id: integer (nullable = true)\n",
      " |-- group_id: integer (nullable = true)\n",
      " |-- campaign_id: integer (nullable = true)\n",
      " |-- publisher_id: integer (nullable = true)\n",
      " |-- bid_set: double (nullable = true)\n",
      " |-- clicks: integer (nullable = true)\n",
      " |-- impressions: string (nullable = true)\n",
      " |-- spend_hour: double (nullable = true)\n",
      " |-- sources: string (nullable = true)\n",
      " |-- latest_update_time: timestamp (nullable = true)\n",
      "\n"
     ]
    }
   ],
   "source": [
    "mysql.printSchema()"
   ]
  },
  {
   "cell_type": "code",
   "execution_count": null,
   "metadata": {},
   "outputs": [],
   "source": []
  }
 ],
 "metadata": {
  "kernelspec": {
   "display_name": "Python 3",
   "language": "python",
   "name": "python3"
  },
  "language_info": {
   "codemirror_mode": {
    "name": "ipython",
    "version": 3
   },
   "file_extension": ".py",
   "mimetype": "text/x-python",
   "name": "python",
   "nbconvert_exporter": "python",
   "pygments_lexer": "ipython3",
   "version": "3.11.3"
  },
  "orig_nbformat": 4
 },
 "nbformat": 4,
 "nbformat_minor": 2
}
